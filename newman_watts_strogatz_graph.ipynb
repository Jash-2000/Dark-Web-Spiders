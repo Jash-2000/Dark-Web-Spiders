{
  "nbformat": 4,
  "nbformat_minor": 0,
  "metadata": {
    "kernelspec": {
      "display_name": "Python 3",
      "language": "python",
      "name": "python3"
    },
    "language_info": {
      "codemirror_mode": {
        "name": "ipython",
        "version": 3
      },
      "file_extension": ".py",
      "mimetype": "text/x-python",
      "name": "python",
      "nbconvert_exporter": "python",
      "pygments_lexer": "ipython3",
      "version": "3.7.5"
    },
    "colab": {
      "name": "trial.ipynb",
      "provenance": []
    }
  },
  "cells": [
    {
      "cell_type": "code",
      "metadata": {
        "id": "wvlxzjVh4XND",
        "outputId": "2ef0e4d5-d535-4480-cd6d-7efc473e821c"
      },
      "source": [
        "l1 = [\"eat\",\"sleep\",\"repeat\"] \n",
        "  \n",
        "\n",
        "for count, ele in enumerate(l1,2): \n",
        "    print(count, ele)"
      ],
      "execution_count": null,
      "outputs": [
        {
          "output_type": "stream",
          "text": [
            "2 eat\n",
            "3 sleep\n",
            "4 repeat\n"
          ],
          "name": "stdout"
        }
      ]
    },
    {
      "cell_type": "markdown",
      "metadata": {
        "id": "XX5BDJH-4XNL"
      },
      "source": [
        "creating dummy graph "
      ]
    },
    {
      "cell_type": "code",
      "metadata": {
        "id": "99-csGds4XNN",
        "outputId": "70bcfe4a-fc4a-40a4-c36b-0f1d58c419fd"
      },
      "source": [
        "import networkx as nx\n",
        "import numpy as np\n",
        "\n",
        "G = nx.Graph()\n",
        "H = nx.newman_watts_strogatz_graph(10,2, 0.5)\n",
        "\n",
        "G.add_nodes_from(H)\n",
        "G.add_edges_from(H.edges)\n",
        "nx.set_edge_attributes(G, values = 1, name = 'weight')\n",
        "G.get_edge_data(0,9)\n",
        "for e in G.edges():\n",
        "    print(G.get_edge_data(e[0],e[1]))\n",
        "    "
      ],
      "execution_count": null,
      "outputs": [
        {
          "output_type": "stream",
          "text": [
            "{'weight': 1}\n",
            "{'weight': 1}\n",
            "{'weight': 1}\n",
            "{'weight': 1}\n",
            "{'weight': 1}\n",
            "{'weight': 1}\n",
            "{'weight': 1}\n",
            "{'weight': 1}\n",
            "{'weight': 1}\n",
            "{'weight': 1}\n",
            "{'weight': 1}\n",
            "{'weight': 1}\n",
            "{'weight': 1}\n",
            "{'weight': 1}\n",
            "{'weight': 1}\n"
          ],
          "name": "stdout"
        }
      ]
    },
    {
      "cell_type": "code",
      "metadata": {
        "id": "qimUfbKv4XNO",
        "outputId": "f18f14d8-4716-4cd0-a711-e12a420f8326"
      },
      "source": [
        "print(G.nodes)\n",
        "print(G.edges)\n",
        "print(G.degree)"
      ],
      "execution_count": null,
      "outputs": [
        {
          "output_type": "stream",
          "text": [
            "[0, 1, 2, 3, 4, 5, 6, 7, 8, 9]\n",
            "[(0, 1), (0, 9), (0, 7), (0, 8), (1, 2), (1, 8), (2, 3), (3, 4), (4, 5), (4, 9), (4, 6), (5, 6), (6, 7), (7, 8), (8, 9)]\n",
            "[(0, 4), (1, 3), (2, 2), (3, 2), (4, 4), (5, 2), (6, 3), (7, 3), (8, 4), (9, 3)]\n"
          ],
          "name": "stdout"
        }
      ]
    },
    {
      "cell_type": "code",
      "metadata": {
        "id": "Gxayvqq24XNP",
        "outputId": "6b645656-941d-433e-8119-69d75b64d42e"
      },
      "source": [
        "\n",
        "n=list(G.neighbors(1))\n",
        "print(n)"
      ],
      "execution_count": null,
      "outputs": [
        {
          "output_type": "stream",
          "text": [
            "[0, 2, 8]\n"
          ],
          "name": "stdout"
        }
      ]
    },
    {
      "cell_type": "code",
      "metadata": {
        "id": "thW7MnKd4XNR",
        "outputId": "3698dc73-54c0-45f7-e674-ef2e92e06c96"
      },
      "source": [
        "for n in G.nodes:\n",
        "    print(\"node is\", n)\n",
        "    unnormalized_probs= [G[n][nbr]['weight'] for nbr in G.neighbors(n)]\n",
        "    norm_cont=sum(unnormalized_probs)\n",
        "    normalized_probs = [u_prob/norm_cont for u_prob in unnormalized_probs]\n",
        "    print(unnormalized_probs)\n",
        "    print(normalized_probs)\n",
        "        #print(nbr, G[n][nbr]['weight'])\n",
        "    "
      ],
      "execution_count": null,
      "outputs": [
        {
          "output_type": "stream",
          "text": [
            "node is 0\n",
            "[1, 1, 1, 1]\n",
            "[0.25, 0.25, 0.25, 0.25]\n",
            "node is 1\n",
            "[1, 1, 1]\n",
            "[0.3333333333333333, 0.3333333333333333, 0.3333333333333333]\n",
            "node is 2\n",
            "[1, 1]\n",
            "[0.5, 0.5]\n",
            "node is 3\n",
            "[1, 1]\n",
            "[0.5, 0.5]\n",
            "node is 4\n",
            "[1, 1, 1, 1]\n",
            "[0.25, 0.25, 0.25, 0.25]\n",
            "node is 5\n",
            "[1, 1]\n",
            "[0.5, 0.5]\n",
            "node is 6\n",
            "[1, 1, 1]\n",
            "[0.3333333333333333, 0.3333333333333333, 0.3333333333333333]\n",
            "node is 7\n",
            "[1, 1, 1]\n",
            "[0.3333333333333333, 0.3333333333333333, 0.3333333333333333]\n",
            "node is 8\n",
            "[1, 1, 1, 1]\n",
            "[0.25, 0.25, 0.25, 0.25]\n",
            "node is 9\n",
            "[1, 1, 1]\n",
            "[0.3333333333333333, 0.3333333333333333, 0.3333333333333333]\n"
          ],
          "name": "stdout"
        }
      ]
    },
    {
      "cell_type": "code",
      "metadata": {
        "id": "zs14l-Jh4XNS",
        "outputId": "4b515682-4fb8-4d71-b352-de353e4cf124"
      },
      "source": [
        "np.random.rand()"
      ],
      "execution_count": null,
      "outputs": [
        {
          "output_type": "execute_result",
          "data": {
            "text/plain": [
              "0.4769645447302616"
            ]
          },
          "metadata": {
            "tags": []
          },
          "execution_count": 80
        }
      ]
    },
    {
      "cell_type": "code",
      "metadata": {
        "id": "RdlZ7SNr4XNU"
      },
      "source": [
        "l=[1,2,3]"
      ],
      "execution_count": null,
      "outputs": []
    },
    {
      "cell_type": "code",
      "metadata": {
        "id": "tWGsNwc_4XNU",
        "outputId": "409bbc47-a563-46f8-a460-36deb695afd3"
      },
      "source": [
        "print(l[-3])"
      ],
      "execution_count": null,
      "outputs": [
        {
          "output_type": "stream",
          "text": [
            "1\n"
          ],
          "name": "stdout"
        }
      ]
    },
    {
      "cell_type": "code",
      "metadata": {
        "id": "sXWVYMeQ4XNW"
      },
      "source": [
        ""
      ],
      "execution_count": null,
      "outputs": []
    }
  ]
}